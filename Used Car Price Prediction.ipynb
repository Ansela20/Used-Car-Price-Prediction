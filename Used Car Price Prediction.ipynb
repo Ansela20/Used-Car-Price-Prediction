{
 "cells": [
  {
   "cell_type": "markdown",
   "id": "d67eb821",
   "metadata": {},
   "source": [
    "**Used Car Price Prediction\n",
    "\n",
    "1) Problem statement.\n",
    "This dataset comprises used cars sold on cardehko.com as well as important features of these cars.\n",
    "\n",
    "\n",
    "2) Data Collection.\n",
    "The Dataset is collected from scrapping using cardheko webiste\n",
    "The data consists of 13 column and 15411 rows.\n",
    "\n",
    "Import Data and Required Packages\n",
    "Importing Pandas, Numpy, Matplotlib, Seaborn"
   ]
  },
  {
   "cell_type": "code",
   "execution_count": 3,
   "id": "c7cfed2e",
   "metadata": {},
   "outputs": [],
   "source": [
    "import pandas as pd\n",
    "import numpy as np\n",
    "import matplotlib.pyplot as plt\n",
    "import seaborn as sns\n",
    "\n",
    "\n",
    "%matplotlib inline\n"
   ]
  },
  {
   "cell_type": "markdown",
   "id": "b5137374",
   "metadata": {},
   "source": [
    "Download and Import the CSV Data as Pandas DataFrame\n",
    "Converted an Excel text file into fields and records by using \"Text to Columns\" button on  \"Data\" tab in the Excel ribbon."
   ]
  },
  {
   "cell_type": "code",
   "execution_count": 4,
   "id": "516f43d0",
   "metadata": {},
   "outputs": [],
   "source": [
    "address = 'C:/Users/Ansela/Desktop/DataSet/Used_Cars_Dataset.csv'\n",
    "Data = pd.read_csv(address, index_col =0)"
   ]
  },
  {
   "cell_type": "markdown",
   "id": "29a4077a",
   "metadata": {},
   "source": [
    "Show top 5 records"
   ]
  },
  {
   "cell_type": "code",
   "execution_count": 5,
   "id": "9dcbd29c",
   "metadata": {},
   "outputs": [
    {
     "data": {
      "text/html": [
       "<div>\n",
       "<style scoped>\n",
       "    .dataframe tbody tr th:only-of-type {\n",
       "        vertical-align: middle;\n",
       "    }\n",
       "\n",
       "    .dataframe tbody tr th {\n",
       "        vertical-align: top;\n",
       "    }\n",
       "\n",
       "    .dataframe thead th {\n",
       "        text-align: right;\n",
       "    }\n",
       "</style>\n",
       "<table border=\"1\" class=\"dataframe\">\n",
       "  <thead>\n",
       "    <tr style=\"text-align: right;\">\n",
       "      <th></th>\n",
       "      <th>car_name</th>\n",
       "      <th>brand</th>\n",
       "      <th>model</th>\n",
       "      <th>vehicle_age</th>\n",
       "      <th>km_driven</th>\n",
       "      <th>seller_type</th>\n",
       "      <th>fuel_type</th>\n",
       "      <th>transmission_type</th>\n",
       "      <th>mileage</th>\n",
       "      <th>engine</th>\n",
       "      <th>max_power</th>\n",
       "      <th>seats</th>\n",
       "      <th>selling_price</th>\n",
       "    </tr>\n",
       "  </thead>\n",
       "  <tbody>\n",
       "    <tr>\n",
       "      <th>0</th>\n",
       "      <td>Maruti Alto</td>\n",
       "      <td>Maruti</td>\n",
       "      <td>Alto</td>\n",
       "      <td>9</td>\n",
       "      <td>120000</td>\n",
       "      <td>Individual</td>\n",
       "      <td>Petrol</td>\n",
       "      <td>Manual</td>\n",
       "      <td>19.70</td>\n",
       "      <td>796</td>\n",
       "      <td>46.30</td>\n",
       "      <td>5</td>\n",
       "      <td>120000</td>\n",
       "    </tr>\n",
       "    <tr>\n",
       "      <th>1</th>\n",
       "      <td>Hyundai Grand</td>\n",
       "      <td>Hyundai</td>\n",
       "      <td>Grand</td>\n",
       "      <td>5</td>\n",
       "      <td>20000</td>\n",
       "      <td>Individual</td>\n",
       "      <td>Petrol</td>\n",
       "      <td>Manual</td>\n",
       "      <td>18.90</td>\n",
       "      <td>1197</td>\n",
       "      <td>82.00</td>\n",
       "      <td>5</td>\n",
       "      <td>550000</td>\n",
       "    </tr>\n",
       "    <tr>\n",
       "      <th>2</th>\n",
       "      <td>Hyundai i20</td>\n",
       "      <td>Hyundai</td>\n",
       "      <td>i20</td>\n",
       "      <td>11</td>\n",
       "      <td>60000</td>\n",
       "      <td>Individual</td>\n",
       "      <td>Petrol</td>\n",
       "      <td>Manual</td>\n",
       "      <td>17.00</td>\n",
       "      <td>1197</td>\n",
       "      <td>80.00</td>\n",
       "      <td>5</td>\n",
       "      <td>215000</td>\n",
       "    </tr>\n",
       "    <tr>\n",
       "      <th>3</th>\n",
       "      <td>Maruti Alto</td>\n",
       "      <td>Maruti</td>\n",
       "      <td>Alto</td>\n",
       "      <td>9</td>\n",
       "      <td>37000</td>\n",
       "      <td>Individual</td>\n",
       "      <td>Petrol</td>\n",
       "      <td>Manual</td>\n",
       "      <td>20.92</td>\n",
       "      <td>998</td>\n",
       "      <td>67.10</td>\n",
       "      <td>5</td>\n",
       "      <td>226000</td>\n",
       "    </tr>\n",
       "    <tr>\n",
       "      <th>4</th>\n",
       "      <td>Ford Ecosport</td>\n",
       "      <td>Ford</td>\n",
       "      <td>Ecosport</td>\n",
       "      <td>6</td>\n",
       "      <td>30000</td>\n",
       "      <td>Dealer</td>\n",
       "      <td>Diesel</td>\n",
       "      <td>Manual</td>\n",
       "      <td>22.77</td>\n",
       "      <td>1498</td>\n",
       "      <td>98.59</td>\n",
       "      <td>5</td>\n",
       "      <td>570000</td>\n",
       "    </tr>\n",
       "  </tbody>\n",
       "</table>\n",
       "</div>"
      ],
      "text/plain": [
       "        car_name    brand     model  vehicle_age  km_driven seller_type  \\\n",
       "0    Maruti Alto   Maruti      Alto            9     120000  Individual   \n",
       "1  Hyundai Grand  Hyundai     Grand            5      20000  Individual   \n",
       "2    Hyundai i20  Hyundai       i20           11      60000  Individual   \n",
       "3    Maruti Alto   Maruti      Alto            9      37000  Individual   \n",
       "4  Ford Ecosport     Ford  Ecosport            6      30000      Dealer   \n",
       "\n",
       "  fuel_type transmission_type  mileage  engine  max_power  seats  \\\n",
       "0    Petrol            Manual    19.70     796      46.30      5   \n",
       "1    Petrol            Manual    18.90    1197      82.00      5   \n",
       "2    Petrol            Manual    17.00    1197      80.00      5   \n",
       "3    Petrol            Manual    20.92     998      67.10      5   \n",
       "4    Diesel            Manual    22.77    1498      98.59      5   \n",
       "\n",
       "   selling_price  \n",
       "0         120000  \n",
       "1         550000  \n",
       "2         215000  \n",
       "3         226000  \n",
       "4         570000  "
      ]
     },
     "execution_count": 5,
     "metadata": {},
     "output_type": "execute_result"
    }
   ],
   "source": [
    "Data.head()"
   ]
  },
  {
   "cell_type": "markdown",
   "id": "04665a34",
   "metadata": {},
   "source": [
    "Shape of the dataset"
   ]
  },
  {
   "cell_type": "code",
   "execution_count": 6,
   "id": "6de918e2",
   "metadata": {},
   "outputs": [
    {
     "data": {
      "text/plain": [
       "(15411, 13)"
      ]
     },
     "execution_count": 6,
     "metadata": {},
     "output_type": "execute_result"
    }
   ],
   "source": [
    "Data.shape"
   ]
  },
  {
   "cell_type": "markdown",
   "id": "345291a1",
   "metadata": {},
   "source": [
    "Summary of the Dataset"
   ]
  },
  {
   "cell_type": "code",
   "execution_count": 7,
   "id": "c6be121c",
   "metadata": {},
   "outputs": [
    {
     "data": {
      "text/html": [
       "<div>\n",
       "<style scoped>\n",
       "    .dataframe tbody tr th:only-of-type {\n",
       "        vertical-align: middle;\n",
       "    }\n",
       "\n",
       "    .dataframe tbody tr th {\n",
       "        vertical-align: top;\n",
       "    }\n",
       "\n",
       "    .dataframe thead th {\n",
       "        text-align: right;\n",
       "    }\n",
       "</style>\n",
       "<table border=\"1\" class=\"dataframe\">\n",
       "  <thead>\n",
       "    <tr style=\"text-align: right;\">\n",
       "      <th></th>\n",
       "      <th>vehicle_age</th>\n",
       "      <th>km_driven</th>\n",
       "      <th>mileage</th>\n",
       "      <th>engine</th>\n",
       "      <th>max_power</th>\n",
       "      <th>seats</th>\n",
       "      <th>selling_price</th>\n",
       "    </tr>\n",
       "  </thead>\n",
       "  <tbody>\n",
       "    <tr>\n",
       "      <th>count</th>\n",
       "      <td>15411.000000</td>\n",
       "      <td>1.541100e+04</td>\n",
       "      <td>15411.000000</td>\n",
       "      <td>15411.000000</td>\n",
       "      <td>15411.000000</td>\n",
       "      <td>15411.000000</td>\n",
       "      <td>1.541100e+04</td>\n",
       "    </tr>\n",
       "    <tr>\n",
       "      <th>mean</th>\n",
       "      <td>6.036338</td>\n",
       "      <td>5.561648e+04</td>\n",
       "      <td>19.701151</td>\n",
       "      <td>1486.057751</td>\n",
       "      <td>100.588254</td>\n",
       "      <td>5.325482</td>\n",
       "      <td>7.749711e+05</td>\n",
       "    </tr>\n",
       "    <tr>\n",
       "      <th>std</th>\n",
       "      <td>3.013291</td>\n",
       "      <td>5.161855e+04</td>\n",
       "      <td>4.171265</td>\n",
       "      <td>521.106696</td>\n",
       "      <td>42.972979</td>\n",
       "      <td>0.807628</td>\n",
       "      <td>8.941284e+05</td>\n",
       "    </tr>\n",
       "    <tr>\n",
       "      <th>min</th>\n",
       "      <td>0.000000</td>\n",
       "      <td>1.000000e+02</td>\n",
       "      <td>4.000000</td>\n",
       "      <td>793.000000</td>\n",
       "      <td>38.400000</td>\n",
       "      <td>0.000000</td>\n",
       "      <td>4.000000e+04</td>\n",
       "    </tr>\n",
       "    <tr>\n",
       "      <th>25%</th>\n",
       "      <td>4.000000</td>\n",
       "      <td>3.000000e+04</td>\n",
       "      <td>17.000000</td>\n",
       "      <td>1197.000000</td>\n",
       "      <td>74.000000</td>\n",
       "      <td>5.000000</td>\n",
       "      <td>3.850000e+05</td>\n",
       "    </tr>\n",
       "    <tr>\n",
       "      <th>50%</th>\n",
       "      <td>6.000000</td>\n",
       "      <td>5.000000e+04</td>\n",
       "      <td>19.670000</td>\n",
       "      <td>1248.000000</td>\n",
       "      <td>88.500000</td>\n",
       "      <td>5.000000</td>\n",
       "      <td>5.560000e+05</td>\n",
       "    </tr>\n",
       "    <tr>\n",
       "      <th>75%</th>\n",
       "      <td>8.000000</td>\n",
       "      <td>7.000000e+04</td>\n",
       "      <td>22.700000</td>\n",
       "      <td>1582.000000</td>\n",
       "      <td>117.300000</td>\n",
       "      <td>5.000000</td>\n",
       "      <td>8.250000e+05</td>\n",
       "    </tr>\n",
       "    <tr>\n",
       "      <th>max</th>\n",
       "      <td>29.000000</td>\n",
       "      <td>3.800000e+06</td>\n",
       "      <td>33.540000</td>\n",
       "      <td>6592.000000</td>\n",
       "      <td>626.000000</td>\n",
       "      <td>9.000000</td>\n",
       "      <td>3.950000e+07</td>\n",
       "    </tr>\n",
       "  </tbody>\n",
       "</table>\n",
       "</div>"
      ],
      "text/plain": [
       "        vehicle_age     km_driven       mileage        engine     max_power  \\\n",
       "count  15411.000000  1.541100e+04  15411.000000  15411.000000  15411.000000   \n",
       "mean       6.036338  5.561648e+04     19.701151   1486.057751    100.588254   \n",
       "std        3.013291  5.161855e+04      4.171265    521.106696     42.972979   \n",
       "min        0.000000  1.000000e+02      4.000000    793.000000     38.400000   \n",
       "25%        4.000000  3.000000e+04     17.000000   1197.000000     74.000000   \n",
       "50%        6.000000  5.000000e+04     19.670000   1248.000000     88.500000   \n",
       "75%        8.000000  7.000000e+04     22.700000   1582.000000    117.300000   \n",
       "max       29.000000  3.800000e+06     33.540000   6592.000000    626.000000   \n",
       "\n",
       "              seats  selling_price  \n",
       "count  15411.000000   1.541100e+04  \n",
       "mean       5.325482   7.749711e+05  \n",
       "std        0.807628   8.941284e+05  \n",
       "min        0.000000   4.000000e+04  \n",
       "25%        5.000000   3.850000e+05  \n",
       "50%        5.000000   5.560000e+05  \n",
       "75%        5.000000   8.250000e+05  \n",
       "max        9.000000   3.950000e+07  "
      ]
     },
     "execution_count": 7,
     "metadata": {},
     "output_type": "execute_result"
    }
   ],
   "source": [
    "Data.describe()"
   ]
  },
  {
   "cell_type": "markdown",
   "id": "8395d833",
   "metadata": {},
   "source": [
    "Check Datatypes in the Dataset"
   ]
  },
  {
   "cell_type": "code",
   "execution_count": 8,
   "id": "623afbb8",
   "metadata": {},
   "outputs": [
    {
     "name": "stdout",
     "output_type": "stream",
     "text": [
      "<class 'pandas.core.frame.DataFrame'>\n",
      "Int64Index: 15411 entries, 0 to 19543\n",
      "Data columns (total 13 columns):\n",
      " #   Column             Non-Null Count  Dtype  \n",
      "---  ------             --------------  -----  \n",
      " 0   car_name           15411 non-null  object \n",
      " 1   brand              15411 non-null  object \n",
      " 2   model              15411 non-null  object \n",
      " 3   vehicle_age        15411 non-null  int64  \n",
      " 4   km_driven          15411 non-null  int64  \n",
      " 5   seller_type        15411 non-null  object \n",
      " 6   fuel_type          15411 non-null  object \n",
      " 7   transmission_type  15411 non-null  object \n",
      " 8   mileage            15411 non-null  float64\n",
      " 9   engine             15411 non-null  int64  \n",
      " 10  max_power          15411 non-null  float64\n",
      " 11  seats              15411 non-null  int64  \n",
      " 12  selling_price      15411 non-null  int64  \n",
      "dtypes: float64(2), int64(5), object(6)\n",
      "memory usage: 1.6+ MB\n"
     ]
    }
   ],
   "source": [
    "# Check null and Dtypes\n",
    "Data.info()"
   ]
  },
  {
   "cell_type": "markdown",
   "id": "229c4c2d",
   "metadata": {},
   "source": [
    "Checking null values"
   ]
  },
  {
   "cell_type": "code",
   "execution_count": 9,
   "id": "ace09731",
   "metadata": {},
   "outputs": [
    {
     "data": {
      "text/plain": [
       "car_name             0\n",
       "brand                0\n",
       "model                0\n",
       "vehicle_age          0\n",
       "km_driven            0\n",
       "seller_type          0\n",
       "fuel_type            0\n",
       "transmission_type    0\n",
       "mileage              0\n",
       "engine               0\n",
       "max_power            0\n",
       "seats                0\n",
       "selling_price        0\n",
       "dtype: int64"
      ]
     },
     "execution_count": 9,
     "metadata": {},
     "output_type": "execute_result"
    }
   ],
   "source": [
    "Data.isnull().sum()"
   ]
  },
  {
   "cell_type": "markdown",
   "id": "5194a477",
   "metadata": {},
   "source": [
    "Most Selling Car in Used Car Website"
   ]
  },
  {
   "cell_type": "code",
   "execution_count": 17,
   "id": "930a2616",
   "metadata": {},
   "outputs": [
    {
     "data": {
      "text/plain": [
       "Hyundai i20           906\n",
       "Maruti Swift Dzire    890\n",
       "Maruti Swift          781\n",
       "Maruti Alto           778\n",
       "Honda City            757\n",
       "Maruti Wagon R        717\n",
       "Hyundai Grand         580\n",
       "Toyota Innova         545\n",
       "Hyundai Verna         492\n",
       "Hyundai i10           410\n",
       "Name: car_name, dtype: int64"
      ]
     },
     "execution_count": 17,
     "metadata": {},
     "output_type": "execute_result"
    }
   ],
   "source": [
    "Data.car_name.value_counts()[0:10]"
   ]
  },
  {
   "cell_type": "markdown",
   "id": "8b79ae5d",
   "metadata": {},
   "source": [
    "**Most Selling Car in Used Car Website is Hyundai i20"
   ]
  },
  {
   "cell_type": "code",
   "execution_count": 10,
   "id": "b985a871",
   "metadata": {},
   "outputs": [
    {
     "data": {
      "image/png": "[encoded data removed]",
      "text/plain": [
       "<Figure size 1008x504 with 1 Axes>"
      ]
     },
     "metadata": {
      "needs_background": "light"
     },
     "output_type": "display_data"
    }
   ],
   "source": [
    "plt.subplots(figsize=(14,7))\n",
    "sns.countplot(x=\"car_name\", data=Data,ec = \"black\",palette=\"Set1\",order = Data['car_name'].value_counts().index)\n",
    "plt.title(\"Top 10 Most Sold Car\", weight=\"bold\",fontsize=20, pad=20)\n",
    "plt.ylabel(\"Count\", weight=\"bold\", fontsize=20)\n",
    "plt.xlabel(\"Car Name\", weight=\"bold\", fontsize=16)\n",
    "plt.xticks(rotation= 45)\n",
    "plt.xlim(-1,10.5)\n",
    "plt.show()"
   ]
  },
  {
   "cell_type": "markdown",
   "id": "a52c3bff",
   "metadata": {},
   "source": [
    "Check mean price of Hyundai i20 which is most sold"
   ]
  },
  {
   "cell_type": "code",
   "execution_count": 26,
   "id": "9cf53c97",
   "metadata": {},
   "outputs": [
    {
     "name": "stdout",
     "output_type": "stream",
     "text": [
      "The mean price of Hyundai i20 is 543603.75 Rupees\n"
     ]
    }
   ],
   "source": [
    "i20 = Data[Data['car_name'] == 'Hyundai i20']['selling_price'].mean()\n",
    "print(f'The mean price of Hyundai i20 is {i20:.2f} Rupees')"
   ]
  },
  {
   "cell_type": "markdown",
   "id": "e957517c",
   "metadata": {},
   "source": [
    "**Report:\n",
    "As per the Chart these are top 10 most selling cars in used car website.\n",
    "Mean Price of Most Sold Car is 5.4 lakhs.\n"
   ]
  },
  {
   "cell_type": "markdown",
   "id": "3d4323ca",
   "metadata": {},
   "source": [
    "Most selling brand"
   ]
  },
  {
   "cell_type": "code",
   "execution_count": 27,
   "id": "d127c944",
   "metadata": {},
   "outputs": [
    {
     "data": {
      "text/plain": [
       "Maruti        4992\n",
       "Hyundai       2982\n",
       "Honda         1485\n",
       "Mahindra      1011\n",
       "Toyota         793\n",
       "Ford           790\n",
       "Volkswagen     620\n",
       "Renault        536\n",
       "BMW            439\n",
       "Tata           430\n",
       "Name: brand, dtype: int64"
      ]
     },
     "execution_count": 27,
     "metadata": {},
     "output_type": "execute_result"
    }
   ],
   "source": [
    "Data.brand.value_counts()[0:10]"
   ]
  },
  {
   "cell_type": "code",
   "execution_count": 28,
   "id": "dddbb9e7",
   "metadata": {},
   "outputs": [
    {
     "data": {
      "image/png": "[encoded data removed]",
      "text/plain": [
       "<Figure size 1008x504 with 1 Axes>"
      ]
     },
     "metadata": {
      "needs_background": "light"
     },
     "output_type": "display_data"
    }
   ],
   "source": [
    "plt.subplots(figsize=(14,7))\n",
    "sns.countplot(x=\"brand\", data=Data,ec = \"black\",palette=\"Set2\",order = Data['brand'].value_counts().index)\n",
    "plt.title(\"Top 10 Most Sold Brand\", weight=\"bold\",fontsize=20, pad=20)\n",
    "plt.ylabel(\"Count\", weight=\"bold\", fontsize=14)\n",
    "plt.xlabel(\"Brand\", weight=\"bold\", fontsize=16)\n",
    "plt.xticks(rotation= 45)\n",
    "plt.xlim(-1,10.5)\n",
    "plt.show()"
   ]
  },
  {
   "cell_type": "markdown",
   "id": "5efe7980",
   "metadata": {},
   "source": [
    "Check the Mean price of Maruti brand which is most sold"
   ]
  },
  {
   "cell_type": "code",
   "execution_count": 29,
   "id": "49a329ee",
   "metadata": {},
   "outputs": [
    {
     "name": "stdout",
     "output_type": "stream",
     "text": [
      "The mean price of Maruti is 487089.32 Rupees\n"
     ]
    }
   ],
   "source": [
    "maruti = Data[Data['brand'] == 'Maruti']['selling_price'].mean()\n",
    "print(f'The mean price of Maruti is {maruti:.2f} Rupees')"
   ]
  },
  {
   "cell_type": "markdown",
   "id": "28db3cc9",
   "metadata": {},
   "source": [
    "**Report:\n",
    "As per the Chart Maruti has the most share of Ads in Used car website and Maruti is the most sold brand.\n",
    "Following Maruti we have Hyundai and Honda.\n",
    "Mean Price of Maruti Brand is 4.8 lakhs."
   ]
  },
  {
   "cell_type": "markdown",
   "id": "163f0a40",
   "metadata": {},
   "source": [
    "Costliest Brand and Costliest Car"
   ]
  },
  {
   "cell_type": "code",
   "execution_count": 36,
   "id": "fd19909b",
   "metadata": {},
   "outputs": [
    {
     "data": {
      "text/plain": [
       "brand\n",
       "Audi              6800000\n",
       "BMW               8500000\n",
       "Bentley          14500000\n",
       "Datsun             650000\n",
       "Ferrari          39500000\n",
       "Force              700000\n",
       "Ford              3200000\n",
       "Honda             3200000\n",
       "Hyundai           2600000\n",
       "ISUZU             1900000\n",
       "Isuzu             2300000\n",
       "Jaguar            6300000\n",
       "Jeep              5600000\n",
       "Kia               3525000\n",
       "Land Rover        9200000\n",
       "Lexus             8000000\n",
       "MG                2075000\n",
       "Mahindra          2950000\n",
       "Maruti            1225000\n",
       "Maserati          6200000\n",
       "Mercedes-AMG      5100000\n",
       "Mercedes-Benz    13000000\n",
       "Mini              3875000\n",
       "Nissan            1450000\n",
       "Porsche          11100000\n",
       "Renault           1155000\n",
       "Rolls-Royce      24200000\n",
       "Skoda             3550000\n",
       "Tata              1750000\n",
       "Toyota            3650000\n",
       "Volkswagen        1250000\n",
       "Volvo             8195000\n",
       "Name: selling_price, dtype: int64"
      ]
     },
     "execution_count": 36,
     "metadata": {},
     "output_type": "execute_result"
    }
   ],
   "source": [
    "brand = Data.groupby('brand').selling_price.max()\n",
    "brand"
   ]
  },
  {
   "cell_type": "code",
   "execution_count": 37,
   "id": "f5fbcf44",
   "metadata": {},
   "outputs": [
    {
     "data": {
      "text/html": [
       "<div>\n",
       "<style scoped>\n",
       "    .dataframe tbody tr th:only-of-type {\n",
       "        vertical-align: middle;\n",
       "    }\n",
       "\n",
       "    .dataframe tbody tr th {\n",
       "        vertical-align: top;\n",
       "    }\n",
       "\n",
       "    .dataframe thead th {\n",
       "        text-align: right;\n",
       "    }\n",
       "</style>\n",
       "<table border=\"1\" class=\"dataframe\">\n",
       "  <thead>\n",
       "    <tr style=\"text-align: right;\">\n",
       "      <th></th>\n",
       "      <th>selling_price</th>\n",
       "    </tr>\n",
       "    <tr>\n",
       "      <th>brand</th>\n",
       "      <th></th>\n",
       "    </tr>\n",
       "  </thead>\n",
       "  <tbody>\n",
       "    <tr>\n",
       "      <th>Ferrari</th>\n",
       "      <td>39500000</td>\n",
       "    </tr>\n",
       "    <tr>\n",
       "      <th>Rolls-Royce</th>\n",
       "      <td>24200000</td>\n",
       "    </tr>\n",
       "    <tr>\n",
       "      <th>Bentley</th>\n",
       "      <td>14500000</td>\n",
       "    </tr>\n",
       "    <tr>\n",
       "      <th>Mercedes-Benz</th>\n",
       "      <td>13000000</td>\n",
       "    </tr>\n",
       "    <tr>\n",
       "      <th>Porsche</th>\n",
       "      <td>11100000</td>\n",
       "    </tr>\n",
       "    <tr>\n",
       "      <th>Land Rover</th>\n",
       "      <td>9200000</td>\n",
       "    </tr>\n",
       "    <tr>\n",
       "      <th>BMW</th>\n",
       "      <td>8500000</td>\n",
       "    </tr>\n",
       "    <tr>\n",
       "      <th>Volvo</th>\n",
       "      <td>8195000</td>\n",
       "    </tr>\n",
       "    <tr>\n",
       "      <th>Lexus</th>\n",
       "      <td>8000000</td>\n",
       "    </tr>\n",
       "    <tr>\n",
       "      <th>Audi</th>\n",
       "      <td>6800000</td>\n",
       "    </tr>\n",
       "  </tbody>\n",
       "</table>\n",
       "</div>"
      ],
      "text/plain": [
       "               selling_price\n",
       "brand                       \n",
       "Ferrari             39500000\n",
       "Rolls-Royce         24200000\n",
       "Bentley             14500000\n",
       "Mercedes-Benz       13000000\n",
       "Porsche             11100000\n",
       "Land Rover           9200000\n",
       "BMW                  8500000\n",
       "Volvo                8195000\n",
       "Lexus                8000000\n",
       "Audi                 6800000"
      ]
     },
     "execution_count": 37,
     "metadata": {},
     "output_type": "execute_result"
    }
   ],
   "source": [
    "brand_df = brand.to_frame().sort_values('selling_price',ascending=False)[0:10]\n",
    "brand_df"
   ]
  },
  {
   "cell_type": "code",
   "execution_count": 38,
   "id": "48255239",
   "metadata": {},
   "outputs": [
    {
     "data": {
      "image/png": "[encoded data removed]",
      "text/plain": [
       "<Figure size 1008x504 with 1 Axes>"
      ]
     },
     "metadata": {
      "needs_background": "light"
     },
     "output_type": "display_data"
    }
   ],
   "source": [
    "plt.subplots(figsize=(14,7))\n",
    "sns.barplot(x=brand.index, y=brand.values,ec = \"black\",palette=\"Set2\")\n",
    "plt.title(\"Brand vs Selling Price\", weight=\"bold\",fontsize=20, pad=20)\n",
    "plt.ylabel(\"Selling Price\", weight=\"bold\", fontsize=15)\n",
    "plt.xlabel(\"Brand Name\", weight=\"bold\", fontsize=16)\n",
    "plt.xticks(rotation=90)\n",
    "plt.show()"
   ]
  },
  {
   "cell_type": "markdown",
   "id": "3b2f1819",
   "metadata": {},
   "source": [
    "**Report:\n",
    "Costliest Brand sold is Ferrari at 3.95 Crores.\n",
    "Second most costliest car Brand is Rolls-Royce as 2.42 Crores.\n",
    "Brand name has very clear impact on selling price."
   ]
  },
  {
   "cell_type": "markdown",
   "id": "f508bbc7",
   "metadata": {},
   "source": [
    "Costliest Car"
   ]
  },
  {
   "cell_type": "code",
   "execution_count": 39,
   "id": "a476fa41",
   "metadata": {},
   "outputs": [
    {
     "data": {
      "text/html": [
       "<div>\n",
       "<style scoped>\n",
       "    .dataframe tbody tr th:only-of-type {\n",
       "        vertical-align: middle;\n",
       "    }\n",
       "\n",
       "    .dataframe tbody tr th {\n",
       "        vertical-align: top;\n",
       "    }\n",
       "\n",
       "    .dataframe thead th {\n",
       "        text-align: right;\n",
       "    }\n",
       "</style>\n",
       "<table border=\"1\" class=\"dataframe\">\n",
       "  <thead>\n",
       "    <tr style=\"text-align: right;\">\n",
       "      <th></th>\n",
       "      <th>selling_price</th>\n",
       "    </tr>\n",
       "    <tr>\n",
       "      <th>car_name</th>\n",
       "      <th></th>\n",
       "    </tr>\n",
       "  </thead>\n",
       "  <tbody>\n",
       "    <tr>\n",
       "      <th>Ferrari GTC4Lusso</th>\n",
       "      <td>39500000</td>\n",
       "    </tr>\n",
       "    <tr>\n",
       "      <th>Rolls-Royce Ghost</th>\n",
       "      <td>24200000</td>\n",
       "    </tr>\n",
       "    <tr>\n",
       "      <th>Bentley Continental</th>\n",
       "      <td>14500000</td>\n",
       "    </tr>\n",
       "    <tr>\n",
       "      <th>Mercedes-Benz S-Class</th>\n",
       "      <td>13000000</td>\n",
       "    </tr>\n",
       "    <tr>\n",
       "      <th>Porsche Cayenne</th>\n",
       "      <td>11100000</td>\n",
       "    </tr>\n",
       "    <tr>\n",
       "      <th>Land Rover Rover</th>\n",
       "      <td>9200000</td>\n",
       "    </tr>\n",
       "    <tr>\n",
       "      <th>BMW 7</th>\n",
       "      <td>8500000</td>\n",
       "    </tr>\n",
       "    <tr>\n",
       "      <th>BMW Z4</th>\n",
       "      <td>8250000</td>\n",
       "    </tr>\n",
       "    <tr>\n",
       "      <th>Volvo XC</th>\n",
       "      <td>8195000</td>\n",
       "    </tr>\n",
       "    <tr>\n",
       "      <th>BMW X5</th>\n",
       "      <td>8100000</td>\n",
       "    </tr>\n",
       "  </tbody>\n",
       "</table>\n",
       "</div>"
      ],
      "text/plain": [
       "                       selling_price\n",
       "car_name                            \n",
       "Ferrari GTC4Lusso           39500000\n",
       "Rolls-Royce Ghost           24200000\n",
       "Bentley Continental         14500000\n",
       "Mercedes-Benz S-Class       13000000\n",
       "Porsche Cayenne             11100000\n",
       "Land Rover Rover             9200000\n",
       "BMW 7                        8500000\n",
       "BMW Z4                       8250000\n",
       "Volvo XC                     8195000\n",
       "BMW X5                       8100000"
      ]
     },
     "execution_count": 39,
     "metadata": {},
     "output_type": "execute_result"
    }
   ],
   "source": [
    "car= Data.groupby('car_name').selling_price.max()\n",
    "car =car.to_frame().sort_values('selling_price',ascending=False)[0:10]\n",
    "car"
   ]
  },
  {
   "cell_type": "code",
   "execution_count": 40,
   "id": "e84556af",
   "metadata": {},
   "outputs": [
    {
     "data": {
      "image/png": "[encoded data removed]",
      "text/plain": [
       "<Figure size 1008x504 with 1 Axes>"
      ]
     },
     "metadata": {
      "needs_background": "light"
     },
     "output_type": "display_data"
    }
   ],
   "source": [
    "plt.subplots(figsize=(14,7))\n",
    "sns.barplot(x=car.index, y=car.selling_price,ec = \"black\",palette=\"Set1\")\n",
    "plt.title(\"Car Name vs Selling Price\", weight=\"bold\",fontsize=20, pad=20)\n",
    "plt.ylabel(\"Selling Price\", weight=\"bold\", fontsize=15)\n",
    "plt.xlabel(\"Car Name\", weight=\"bold\", fontsize=16)\n",
    "plt.xticks(rotation=90)\n",
    "plt.show()"
   ]
  },
  {
   "cell_type": "markdown",
   "id": "1f547efc",
   "metadata": {},
   "source": [
    "**Report\n",
    "Costliest Car sold is Ferrari GTC4 Lusso followed by Rolls Royce Ghost.\n",
    "Ferrari selling price is 3.95 Crs.\n",
    "Other than Ferrari other car has priced below 1.5cr."
   ]
  },
  {
   "cell_type": "markdown",
   "id": "33ed8360",
   "metadata": {},
   "source": [
    "Fuel Type Selling Price"
   ]
  },
  {
   "cell_type": "code",
   "execution_count": 11,
   "id": "0cfd6871",
   "metadata": {},
   "outputs": [
    {
     "data": {
      "text/html": [
       "<div>\n",
       "<style scoped>\n",
       "    .dataframe tbody tr th:only-of-type {\n",
       "        vertical-align: middle;\n",
       "    }\n",
       "\n",
       "    .dataframe tbody tr th {\n",
       "        vertical-align: top;\n",
       "    }\n",
       "\n",
       "    .dataframe thead th {\n",
       "        text-align: right;\n",
       "    }\n",
       "</style>\n",
       "<table border=\"1\" class=\"dataframe\">\n",
       "  <thead>\n",
       "    <tr style=\"text-align: right;\">\n",
       "      <th></th>\n",
       "      <th>selling_price</th>\n",
       "    </tr>\n",
       "    <tr>\n",
       "      <th>fuel_type</th>\n",
       "      <th></th>\n",
       "    </tr>\n",
       "  </thead>\n",
       "  <tbody>\n",
       "    <tr>\n",
       "      <th>Electric</th>\n",
       "      <td>1857500.0</td>\n",
       "    </tr>\n",
       "    <tr>\n",
       "      <th>Diesel</th>\n",
       "      <td>700000.0</td>\n",
       "    </tr>\n",
       "    <tr>\n",
       "      <th>Petrol</th>\n",
       "      <td>460000.0</td>\n",
       "    </tr>\n",
       "    <tr>\n",
       "      <th>CNG</th>\n",
       "      <td>370000.0</td>\n",
       "    </tr>\n",
       "    <tr>\n",
       "      <th>LPG</th>\n",
       "      <td>182500.0</td>\n",
       "    </tr>\n",
       "  </tbody>\n",
       "</table>\n",
       "</div>"
      ],
      "text/plain": [
       "           selling_price\n",
       "fuel_type               \n",
       "Electric       1857500.0\n",
       "Diesel          700000.0\n",
       "Petrol          460000.0\n",
       "CNG             370000.0\n",
       "LPG             182500.0"
      ]
     },
     "execution_count": 11,
     "metadata": {},
     "output_type": "execute_result"
    }
   ],
   "source": [
    "fuel = Data.groupby('fuel_type')['selling_price'].median().sort_values(ascending=False)\n",
    "fuel.to_frame()"
   ]
  },
  {
   "cell_type": "code",
   "execution_count": 12,
   "id": "4a121be6",
   "metadata": {},
   "outputs": [
    {
     "data": {
      "image/png": "[encoded data removed]",
      "text/plain": [
       "<Figure size 1008x504 with 1 Axes>"
      ]
     },
     "metadata": {
      "needs_background": "light"
     },
     "output_type": "display_data"
    }
   ],
   "source": [
    "plt.subplots(figsize=(14,7))\n",
    "sns.barplot(x=Data.fuel_type, y=Data.selling_price, ec = \"black\", palette=\"Set2_r\")\n",
    "plt.title(\"Fuel type vs Selling Price\", weight=\"bold\",fontsize=20, pad=20)\n",
    "plt.ylabel(\"Selling Price Median\", weight=\"bold\", fontsize=15)\n",
    "plt.xlabel(\"Fuel Type\", weight=\"bold\", fontsize=12)\n",
    "plt.show()"
   ]
  },
  {
   "cell_type": "markdown",
   "id": "66e32072",
   "metadata": {},
   "source": [
    "**Report\n",
    "Electric cars have highers selling average price.\n",
    "Followed by Diesel and Petrol."
   ]
  },
  {
   "cell_type": "markdown",
   "id": "20d337b6",
   "metadata": {},
   "source": [
    "Vehicle age vs Selling Price"
   ]
  },
  {
   "cell_type": "code",
   "execution_count": 14,
   "id": "b0ff3a44",
   "metadata": {},
   "outputs": [
    {
     "data": {
      "image/png": "[encoded data removed]",
      "text/plain": [
       "<Figure size 1440x720 with 1 Axes>"
      ]
     },
     "metadata": {
      "needs_background": "light"
     },
     "output_type": "display_data"
    }
   ],
   "source": [
    "plt.subplots(figsize=(20,10))\n",
    "sns.lineplot(x='vehicle_age',y='selling_price',data=Data,color='r')\n",
    "plt.ylim(0,2500000)\n",
    "plt.show()"
   ]
  },
  {
   "cell_type": "markdown",
   "id": "7a34fb97",
   "metadata": {},
   "source": [
    "**Report\n",
    "As the Vehicle age increases the price also get reduced.\n",
    "Vehicle age has Negative impact on selling price"
   ]
  },
  {
   "cell_type": "markdown",
   "id": "37955908",
   "metadata": {},
   "source": [
    "Vehicle age vs Mileage"
   ]
  },
  {
   "cell_type": "code",
   "execution_count": 16,
   "id": "26f4f19a",
   "metadata": {},
   "outputs": [
    {
     "data": {
      "text/html": [
       "<div>\n",
       "<style scoped>\n",
       "    .dataframe tbody tr th:only-of-type {\n",
       "        vertical-align: middle;\n",
       "    }\n",
       "\n",
       "    .dataframe tbody tr th {\n",
       "        vertical-align: top;\n",
       "    }\n",
       "\n",
       "    .dataframe thead th {\n",
       "        text-align: right;\n",
       "    }\n",
       "</style>\n",
       "<table border=\"1\" class=\"dataframe\">\n",
       "  <thead>\n",
       "    <tr style=\"text-align: right;\">\n",
       "      <th></th>\n",
       "      <th>mileage</th>\n",
       "    </tr>\n",
       "    <tr>\n",
       "      <th>vehicle_age</th>\n",
       "      <th></th>\n",
       "    </tr>\n",
       "  </thead>\n",
       "  <tbody>\n",
       "    <tr>\n",
       "      <th>29</th>\n",
       "      <td>22.05</td>\n",
       "    </tr>\n",
       "    <tr>\n",
       "      <th>0</th>\n",
       "      <td>21.70</td>\n",
       "    </tr>\n",
       "    <tr>\n",
       "      <th>3</th>\n",
       "      <td>21.21</td>\n",
       "    </tr>\n",
       "    <tr>\n",
       "      <th>4</th>\n",
       "      <td>20.63</td>\n",
       "    </tr>\n",
       "    <tr>\n",
       "      <th>5</th>\n",
       "      <td>20.51</td>\n",
       "    </tr>\n",
       "  </tbody>\n",
       "</table>\n",
       "</div>"
      ],
      "text/plain": [
       "             mileage\n",
       "vehicle_age         \n",
       "29             22.05\n",
       "0              21.70\n",
       "3              21.21\n",
       "4              20.63\n",
       "5              20.51"
      ]
     },
     "execution_count": 16,
     "metadata": {},
     "output_type": "execute_result"
    }
   ],
   "source": [
    "vehicle_age = Data.groupby('vehicle_age')['mileage'].median().sort_values(ascending=False)\n",
    "vehicle_age.to_frame().head(5)"
   ]
  },
  {
   "cell_type": "code",
   "execution_count": 17,
   "id": "20df80e8",
   "metadata": {},
   "outputs": [
    {
     "data": {
      "image/png": "[encoded data removed]",
      "text/plain": [
       "<Figure size 1008x504 with 1 Axes>"
      ]
     },
     "metadata": {
      "needs_background": "light"
     },
     "output_type": "display_data"
    }
   ],
   "source": [
    "plt.subplots(figsize=(14,7))\n",
    "sns.boxplot(x=Data.vehicle_age, y= Data.mileage, palette=\"Set1\")\n",
    "plt.title(\"Vehicle Age vs Mileage\", weight=\"bold\",fontsize=20, pad=20)\n",
    "plt.ylabel(\"Mileage\", weight=\"bold\", fontsize=20)\n",
    "plt.xlabel(\"Vehicle Age in Years\", weight=\"bold\", fontsize=16)\n",
    "plt.show()"
   ]
  },
  {
   "cell_type": "markdown",
   "id": "3ccd47c0",
   "metadata": {},
   "source": [
    "**Report\n",
    "As the Age of vehicle increases the median of mileage drops.\n",
    "Newer Vehicles have more mileage median than older vehicle."
   ]
  },
  {
   "cell_type": "code",
   "execution_count": null,
   "id": "975a2c7a",
   "metadata": {},
   "outputs": [],
   "source": []
  }
 ],
 "metadata": {
  "kernelspec": {
   "display_name": "Python 3 (ipykernel)",
   "language": "python",
   "name": "python3"
  },
  "language_info": {
   "codemirror_mode": {
    "name": "ipython",
    "version": 3
   },
   "file_extension": ".py",
   "mimetype": "text/x-python",
   "name": "python",
   "nbconvert_exporter": "python",
   "pygments_lexer": "ipython3",
   "version": "3.9.7"
  }
 },
 "nbformat": 4,
 "nbformat_minor": 5
}
